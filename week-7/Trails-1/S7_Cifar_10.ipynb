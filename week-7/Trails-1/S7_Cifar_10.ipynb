{
  "nbformat": 4,
  "nbformat_minor": 0,
  "metadata": {
    "colab": {
      "name": "S7 Cifar-10.ipynb",
      "provenance": [],
      "collapsed_sections": []
    },
    "kernelspec": {
      "name": "python3",
      "display_name": "Python 3"
    },
    "accelerator": "GPU",
    "widgets": {
      "application/vnd.jupyter.widget-state+json": {
        "b4182b00c57947ba839d6f5b672e459b": {
          "model_module": "@jupyter-widgets/controls",
          "model_name": "HBoxModel",
          "state": {
            "_view_name": "HBoxView",
            "_dom_classes": [],
            "_model_name": "HBoxModel",
            "_view_module": "@jupyter-widgets/controls",
            "_model_module_version": "1.5.0",
            "_view_count": null,
            "_view_module_version": "1.5.0",
            "box_style": "",
            "layout": "IPY_MODEL_93cd4de94d97465c925c0ea42607f365",
            "_model_module": "@jupyter-widgets/controls",
            "children": [
              "IPY_MODEL_de09b0bd338649b3bf85c0e6590fef6e",
              "IPY_MODEL_a783eeaea3684cca84b8e967ad0f2d66"
            ]
          }
        },
        "93cd4de94d97465c925c0ea42607f365": {
          "model_module": "@jupyter-widgets/base",
          "model_name": "LayoutModel",
          "state": {
            "_view_name": "LayoutView",
            "grid_template_rows": null,
            "right": null,
            "justify_content": null,
            "_view_module": "@jupyter-widgets/base",
            "overflow": null,
            "_model_module_version": "1.2.0",
            "_view_count": null,
            "flex_flow": null,
            "width": null,
            "min_width": null,
            "border": null,
            "align_items": null,
            "bottom": null,
            "_model_module": "@jupyter-widgets/base",
            "top": null,
            "grid_column": null,
            "overflow_y": null,
            "overflow_x": null,
            "grid_auto_flow": null,
            "grid_area": null,
            "grid_template_columns": null,
            "flex": null,
            "_model_name": "LayoutModel",
            "justify_items": null,
            "grid_row": null,
            "max_height": null,
            "align_content": null,
            "visibility": null,
            "align_self": null,
            "height": null,
            "min_height": null,
            "padding": null,
            "grid_auto_rows": null,
            "grid_gap": null,
            "max_width": null,
            "order": null,
            "_view_module_version": "1.2.0",
            "grid_template_areas": null,
            "object_position": null,
            "object_fit": null,
            "grid_auto_columns": null,
            "margin": null,
            "display": null,
            "left": null
          }
        },
        "de09b0bd338649b3bf85c0e6590fef6e": {
          "model_module": "@jupyter-widgets/controls",
          "model_name": "FloatProgressModel",
          "state": {
            "_view_name": "ProgressView",
            "style": "IPY_MODEL_84881b6b4e7045e089aab3dc4bda1a8e",
            "_dom_classes": [],
            "description": "",
            "_model_name": "FloatProgressModel",
            "bar_style": "info",
            "max": 1,
            "_view_module": "@jupyter-widgets/controls",
            "_model_module_version": "1.5.0",
            "value": 1,
            "_view_count": null,
            "_view_module_version": "1.5.0",
            "orientation": "horizontal",
            "min": 0,
            "description_tooltip": null,
            "_model_module": "@jupyter-widgets/controls",
            "layout": "IPY_MODEL_401d5aeb7ebe464eab7bc360d9e875eb"
          }
        },
        "a783eeaea3684cca84b8e967ad0f2d66": {
          "model_module": "@jupyter-widgets/controls",
          "model_name": "HTMLModel",
          "state": {
            "_view_name": "HTMLView",
            "style": "IPY_MODEL_ca694c2b5f42445b8c47eb7074f9dfb3",
            "_dom_classes": [],
            "description": "",
            "_model_name": "HTMLModel",
            "placeholder": "​",
            "_view_module": "@jupyter-widgets/controls",
            "_model_module_version": "1.5.0",
            "value": " 170500096/? [00:30&lt;00:00, 15113481.11it/s]",
            "_view_count": null,
            "_view_module_version": "1.5.0",
            "description_tooltip": null,
            "_model_module": "@jupyter-widgets/controls",
            "layout": "IPY_MODEL_ce99ca5791804e6c9612278df364fcc3"
          }
        },
        "84881b6b4e7045e089aab3dc4bda1a8e": {
          "model_module": "@jupyter-widgets/controls",
          "model_name": "ProgressStyleModel",
          "state": {
            "_view_name": "StyleView",
            "_model_name": "ProgressStyleModel",
            "description_width": "initial",
            "_view_module": "@jupyter-widgets/base",
            "_model_module_version": "1.5.0",
            "_view_count": null,
            "_view_module_version": "1.2.0",
            "bar_color": null,
            "_model_module": "@jupyter-widgets/controls"
          }
        },
        "401d5aeb7ebe464eab7bc360d9e875eb": {
          "model_module": "@jupyter-widgets/base",
          "model_name": "LayoutModel",
          "state": {
            "_view_name": "LayoutView",
            "grid_template_rows": null,
            "right": null,
            "justify_content": null,
            "_view_module": "@jupyter-widgets/base",
            "overflow": null,
            "_model_module_version": "1.2.0",
            "_view_count": null,
            "flex_flow": null,
            "width": null,
            "min_width": null,
            "border": null,
            "align_items": null,
            "bottom": null,
            "_model_module": "@jupyter-widgets/base",
            "top": null,
            "grid_column": null,
            "overflow_y": null,
            "overflow_x": null,
            "grid_auto_flow": null,
            "grid_area": null,
            "grid_template_columns": null,
            "flex": null,
            "_model_name": "LayoutModel",
            "justify_items": null,
            "grid_row": null,
            "max_height": null,
            "align_content": null,
            "visibility": null,
            "align_self": null,
            "height": null,
            "min_height": null,
            "padding": null,
            "grid_auto_rows": null,
            "grid_gap": null,
            "max_width": null,
            "order": null,
            "_view_module_version": "1.2.0",
            "grid_template_areas": null,
            "object_position": null,
            "object_fit": null,
            "grid_auto_columns": null,
            "margin": null,
            "display": null,
            "left": null
          }
        },
        "ca694c2b5f42445b8c47eb7074f9dfb3": {
          "model_module": "@jupyter-widgets/controls",
          "model_name": "DescriptionStyleModel",
          "state": {
            "_view_name": "StyleView",
            "_model_name": "DescriptionStyleModel",
            "description_width": "",
            "_view_module": "@jupyter-widgets/base",
            "_model_module_version": "1.5.0",
            "_view_count": null,
            "_view_module_version": "1.2.0",
            "_model_module": "@jupyter-widgets/controls"
          }
        },
        "ce99ca5791804e6c9612278df364fcc3": {
          "model_module": "@jupyter-widgets/base",
          "model_name": "LayoutModel",
          "state": {
            "_view_name": "LayoutView",
            "grid_template_rows": null,
            "right": null,
            "justify_content": null,
            "_view_module": "@jupyter-widgets/base",
            "overflow": null,
            "_model_module_version": "1.2.0",
            "_view_count": null,
            "flex_flow": null,
            "width": null,
            "min_width": null,
            "border": null,
            "align_items": null,
            "bottom": null,
            "_model_module": "@jupyter-widgets/base",
            "top": null,
            "grid_column": null,
            "overflow_y": null,
            "overflow_x": null,
            "grid_auto_flow": null,
            "grid_area": null,
            "grid_template_columns": null,
            "flex": null,
            "_model_name": "LayoutModel",
            "justify_items": null,
            "grid_row": null,
            "max_height": null,
            "align_content": null,
            "visibility": null,
            "align_self": null,
            "height": null,
            "min_height": null,
            "padding": null,
            "grid_auto_rows": null,
            "grid_gap": null,
            "max_width": null,
            "order": null,
            "_view_module_version": "1.2.0",
            "grid_template_areas": null,
            "object_position": null,
            "object_fit": null,
            "grid_auto_columns": null,
            "margin": null,
            "display": null,
            "left": null
          }
        }
      }
    }
  },
  "cells": [
    {
      "cell_type": "markdown",
      "metadata": {
        "id": "HwcqA_KJygWf",
        "colab_type": "text"
      },
      "source": [
        "## imports"
      ]
    },
    {
      "cell_type": "code",
      "metadata": {
        "id": "6cPvD1I6hgjz",
        "colab_type": "code",
        "colab": {}
      },
      "source": [
        "from __future__ import print_function\n",
        "import torch\n",
        "import torch.nn as nn\n",
        "import torch.nn.functional as F\n",
        "import torch.optim as optim\n",
        "import torchvision\n",
        "from torchvision import datasets, transforms\n",
        "from torch.optim.lr_scheduler import StepLR, OneCycleLR"
      ],
      "execution_count": null,
      "outputs": []
    },
    {
      "cell_type": "code",
      "metadata": {
        "id": "vhgDZJD7hoB6",
        "colab_type": "code",
        "colab": {
          "base_uri": "https://localhost:8080/",
          "height": 111
        },
        "outputId": "5aa1b8e2-2bce-4cfd-abf2-cdbe25649020"
      },
      "source": [
        "%matplotlib inline\n",
        "import matplotlib.pyplot as plt\n",
        "\n",
        "import seaborn as sns\n",
        "import matplotlib.pyplot as plt\n",
        "sns.set()"
      ],
      "execution_count": null,
      "outputs": [
        {
          "output_type": "stream",
          "text": [
            "/usr/local/lib/python3.6/dist-packages/statsmodels/tools/_testing.py:19: FutureWarning: pandas.util.testing is deprecated. Use the functions in the public API at pandas.testing instead.\n",
            "  import pandas.util.testing as tm\n"
          ],
          "name": "stderr"
        }
      ]
    },
    {
      "cell_type": "code",
      "metadata": {
        "id": "4CcFJU6_hqYA",
        "colab_type": "code",
        "colab": {
          "base_uri": "https://localhost:8080/",
          "height": 54
        },
        "outputId": "4a232033-722b-4f35-936f-b066b5fc48f5"
      },
      "source": [
        "!pip install torchsummary\n",
        "from torchsummary import summary"
      ],
      "execution_count": null,
      "outputs": [
        {
          "output_type": "stream",
          "text": [
            "Requirement already satisfied: torchsummary in /usr/local/lib/python3.6/dist-packages (1.5.1)\n"
          ],
          "name": "stdout"
        }
      ]
    },
    {
      "cell_type": "code",
      "metadata": {
        "id": "2FUQevO3hrck",
        "colab_type": "code",
        "colab": {}
      },
      "source": [
        ""
      ],
      "execution_count": null,
      "outputs": []
    },
    {
      "cell_type": "code",
      "metadata": {
        "id": "TlaPliqFhs6K",
        "colab_type": "code",
        "colab": {}
      },
      "source": [
        "def getDeviceType():\n",
        "  if torch.cuda.is_available():\n",
        "    device = torch.device(\"cuda\")\n",
        "  else:\n",
        "    device = torch.device(\"cpu\")\n",
        "  return device"
      ],
      "execution_count": null,
      "outputs": []
    },
    {
      "cell_type": "code",
      "metadata": {
        "id": "jpt1ahoUh7ws",
        "colab_type": "code",
        "colab": {
          "base_uri": "https://localhost:8080/",
          "height": 34
        },
        "outputId": "135351ff-8b9a-4e17-afa0-b3ce412f125e"
      },
      "source": [
        "print(getDeviceType())"
      ],
      "execution_count": null,
      "outputs": [
        {
          "output_type": "stream",
          "text": [
            "cuda\n"
          ],
          "name": "stdout"
        }
      ]
    },
    {
      "cell_type": "markdown",
      "metadata": {
        "id": "jMu7u0vuybMd",
        "colab_type": "text"
      },
      "source": [
        "##Define model - Cifar 10 training model\n",
        "\n",
        "input image size - 32x32x3"
      ]
    },
    {
      "cell_type": "code",
      "metadata": {
        "id": "n9oYs044h-C1",
        "colab_type": "code",
        "colab": {}
      },
      "source": [
        "class Cifar10Model(nn.Module):\n",
        "  def __init__(self):\n",
        "    super(Cifar10Model, self).__init__()\n",
        "    self.dropout = 0.1\n",
        "\n",
        "    # Input conv block\n",
        "    in_ch = 3\n",
        "    out_ch = 32\n",
        "    self.convblock1 = nn.Sequential(\n",
        "            nn.Conv2d(in_channels=in_ch, out_channels=out_ch, kernel_size=(3,3), \n",
        "                      padding=1, bias=False),\n",
        "            nn.BatchNorm2d(out_ch),\n",
        "            nn.Dropout(self.dropout),\n",
        "            nn.ReLU()\n",
        "        ) # input_side = 3, output_size = 32, RF = 3\n",
        "\n",
        "    # convolution block - 1\n",
        "    in_ch = 32\n",
        "    out_ch = 64\n",
        "    self.convblock2 = nn.Sequential(\n",
        "            nn.Conv2d(in_channels=in_ch, out_channels=out_ch, kernel_size=(3,3),\n",
        "                      padding=1, bias=False),\n",
        "            nn.BatchNorm2d(out_ch),\n",
        "            nn.Dropout(self.dropout),\n",
        "            nn.ReLU()\n",
        "        ) # input_side = 32, output_size = 64, RF = 5\n",
        "\n",
        "    # Transition block - 1\n",
        "    in_ch = 64\n",
        "    out_ch = 32\n",
        "    self.convblock3 = nn.Sequential(\n",
        "            nn.Conv2d(in_channels=in_ch, out_channels=out_ch, kernel_size=(1,1),\n",
        "                      padding=0, bias=False),\n",
        "        )# input_side = 64, output_size = 32, RF = 5\n",
        "    self.pool1 = nn.MaxPool2d(2,2)\n",
        "    # input_side = 32, output_size = 16, RF = 6\n",
        "\n",
        "    # convolution block - 2\n",
        "    # Depthwise convolution - 1\n",
        "    in_ch = 32\n",
        "    out_ch = 64\n",
        "    self.depthwise1 = nn.Sequential(\n",
        "          nn.Conv2d(in_channels=in_ch, out_channels=out_ch, kernel_size=(3,3), \n",
        "                    padding=0, groups=in_ch, bias=False),\n",
        "          nn.BatchNorm2d(out_ch),\n",
        "          nn.Dropout(self.dropout),\n",
        "          nn.ReLU()\n",
        "      ) # input_side = 16, output_size = 14, RF = ?\n",
        "\n",
        "    in_ch = 64\n",
        "    out_ch = 128\n",
        "    self.convblock4 = nn.Sequential(\n",
        "        nn.Conv2d(in_channels=in_ch, out_channels=out_ch, kernel_size=(1,1),\n",
        "                  padding=0, bias=False),\n",
        "        nn.BatchNorm2d(num_features=out_ch),\n",
        "        nn.Dropout2d(self.dropout),\n",
        "        nn.ReLU()\n",
        "        )  # input_side = 14, output_size = 14, RF = ?\n",
        "\n",
        "    self.pool2 = nn.MaxPool2d(2,2)\n",
        "    # input_side = 14, output_size = 7, RF = ?\n",
        "\n",
        "    # convolution block - 3\n",
        "    # diated 1\n",
        "    in_ch = 128\n",
        "    out_ch = 256\n",
        "    self.convblock5 = nn.Sequential(\n",
        "      nn.Conv2d(in_channels=in_ch, out_channels=out_ch, kernel_size=(3,3),\n",
        "                padding=4, dilation=2, bias=False),\n",
        "      nn.BatchNorm2d(num_features=out_ch),\n",
        "      nn.Dropout2d(self.dropout),\n",
        "      nn.ReLU()\n",
        "        )  # input_side = 7, output_size = 11, RF = ?\n",
        "    \n",
        "    in_ch = 256\n",
        "    out_ch = 256\n",
        "    self.convblock6 = nn.Sequential(\n",
        "            nn.Conv2d(in_channels=in_ch, out_channels=out_ch, kernel_size=(3,3),\n",
        "                      padding=1, bias=False),\n",
        "            nn.BatchNorm2d(out_ch),\n",
        "            nn.Dropout(self.dropout),\n",
        "            nn.ReLU()\n",
        "        )  # input_side = 11, output_size = 11, RF = ?\n",
        "\n",
        "    self.pool3 = nn.MaxPool2d(2,2)\n",
        "    # input_side = 11, output_size = 5, RF = ?\n",
        "\n",
        "    # GAP\n",
        "    self.gap = nn.Sequential(\n",
        "            nn.AvgPool2d(kernel_size=5)\n",
        "        )  # output_size = 1\n",
        "    \n",
        "    # Add one more layer after GAP\n",
        "    in_ch = 256\n",
        "    out_ch = 128\n",
        "    self.convblock7 = nn.Sequential(\n",
        "            nn.Conv2d(in_channels=in_ch, out_channels=out_ch,\n",
        "                      kernel_size=(1, 1), padding=0, bias=False),\n",
        "            nn.BatchNorm2d(out_ch),\n",
        "            nn.Dropout(self.dropout),\n",
        "            nn.ReLU()\n",
        "        )\n",
        "\n",
        "    # output layer\n",
        "    in_ch = 128\n",
        "    self.convblock8 = nn.Sequential(\n",
        "        nn.Conv2d(in_channels=in_ch, out_channels=10,\n",
        "                  kernel_size=(1, 1), padding=0, bias=False),\n",
        "        )\n",
        "\n",
        "    self.dropout = nn.Dropout(self.dropout)\n",
        "\n",
        "\n",
        "  def forward(self, x):\n",
        "    x = self.convblock1(x)\n",
        "    x = self.convblock2(x)\n",
        "    x = self.convblock3(x)\n",
        "    x = self.pool1(x)\n",
        "    x = self.depthwise1(x)\n",
        "    x = self.convblock4(x)\n",
        "    x = self.pool2(x)\n",
        "    x = self.convblock5(x)\n",
        "    x = self.convblock6(x)\n",
        "    x = self.pool3(x)\n",
        "    x = self.gap(x)\n",
        "    x = self.convblock7(x)\n",
        "    x = self.convblock8(x)\n",
        "\n",
        "    x = x.view(-1, 10)\n",
        "    return F.log_softmax(x, dim=-1)\n",
        "    # return x\n"
      ],
      "execution_count": null,
      "outputs": []
    },
    {
      "cell_type": "code",
      "metadata": {
        "id": "lQJnK9kyC36a",
        "colab_type": "code",
        "colab": {}
      },
      "source": [
        "device = getDeviceType()\n",
        "cifarmodel = Cifar10Model().to(device)"
      ],
      "execution_count": null,
      "outputs": []
    },
    {
      "cell_type": "code",
      "metadata": {
        "id": "NT-u-YrVDVZY",
        "colab_type": "code",
        "colab": {
          "base_uri": "https://localhost:8080/",
          "height": 1000
        },
        "outputId": "f31c6c18-c389-485d-9dd6-2d9623a5cf91"
      },
      "source": [
        "summary(cifarmodel, input_size=(3, 32, 32))"
      ],
      "execution_count": null,
      "outputs": [
        {
          "output_type": "stream",
          "text": [
            "----------------------------------------------------------------\n",
            "        Layer (type)               Output Shape         Param #\n",
            "================================================================\n",
            "            Conv2d-1           [-1, 32, 32, 32]             864\n",
            "       BatchNorm2d-2           [-1, 32, 32, 32]              64\n",
            "           Dropout-3           [-1, 32, 32, 32]               0\n",
            "              ReLU-4           [-1, 32, 32, 32]               0\n",
            "            Conv2d-5           [-1, 64, 32, 32]          18,432\n",
            "       BatchNorm2d-6           [-1, 64, 32, 32]             128\n",
            "           Dropout-7           [-1, 64, 32, 32]               0\n",
            "              ReLU-8           [-1, 64, 32, 32]               0\n",
            "            Conv2d-9           [-1, 32, 32, 32]           2,048\n",
            "        MaxPool2d-10           [-1, 32, 16, 16]               0\n",
            "           Conv2d-11           [-1, 64, 14, 14]             576\n",
            "      BatchNorm2d-12           [-1, 64, 14, 14]             128\n",
            "          Dropout-13           [-1, 64, 14, 14]               0\n",
            "             ReLU-14           [-1, 64, 14, 14]               0\n",
            "           Conv2d-15          [-1, 128, 14, 14]           8,192\n",
            "      BatchNorm2d-16          [-1, 128, 14, 14]             256\n",
            "        Dropout2d-17          [-1, 128, 14, 14]               0\n",
            "             ReLU-18          [-1, 128, 14, 14]               0\n",
            "        MaxPool2d-19            [-1, 128, 7, 7]               0\n",
            "           Conv2d-20          [-1, 256, 11, 11]         294,912\n",
            "      BatchNorm2d-21          [-1, 256, 11, 11]             512\n",
            "        Dropout2d-22          [-1, 256, 11, 11]               0\n",
            "             ReLU-23          [-1, 256, 11, 11]               0\n",
            "           Conv2d-24          [-1, 256, 11, 11]         589,824\n",
            "      BatchNorm2d-25          [-1, 256, 11, 11]             512\n",
            "          Dropout-26          [-1, 256, 11, 11]               0\n",
            "             ReLU-27          [-1, 256, 11, 11]               0\n",
            "        MaxPool2d-28            [-1, 256, 5, 5]               0\n",
            "        AvgPool2d-29            [-1, 256, 1, 1]               0\n",
            "           Conv2d-30            [-1, 128, 1, 1]          32,768\n",
            "      BatchNorm2d-31            [-1, 128, 1, 1]             256\n",
            "          Dropout-32            [-1, 128, 1, 1]               0\n",
            "             ReLU-33            [-1, 128, 1, 1]               0\n",
            "           Conv2d-34             [-1, 10, 1, 1]           1,280\n",
            "================================================================\n",
            "Total params: 950,752\n",
            "Trainable params: 950,752\n",
            "Non-trainable params: 0\n",
            "----------------------------------------------------------------\n",
            "Input size (MB): 0.01\n",
            "Forward/backward pass size (MB): 6.45\n",
            "Params size (MB): 3.63\n",
            "Estimated Total Size (MB): 10.09\n",
            "----------------------------------------------------------------\n"
          ],
          "name": "stdout"
        }
      ]
    },
    {
      "cell_type": "code",
      "metadata": {
        "id": "WRwEJk1tExAY",
        "colab_type": "code",
        "colab": {}
      },
      "source": [
        ""
      ],
      "execution_count": null,
      "outputs": []
    },
    {
      "cell_type": "code",
      "metadata": {
        "id": "4AE7xspCIpun",
        "colab_type": "code",
        "colab": {}
      },
      "source": [
        "import torch.optim as optim\n",
        "\n",
        "criterion = nn.CrossEntropyLoss()\n",
        "lossfunc = nn.CrossEntropyLoss()\n",
        "optimizer = optim.SGD(cifarmodel.parameters(), lr=0.001, momentum=0.9)"
      ],
      "execution_count": null,
      "outputs": []
    },
    {
      "cell_type": "code",
      "metadata": {
        "id": "6MpjJXwK59gK",
        "colab_type": "code",
        "colab": {}
      },
      "source": [
        "from tqdm import tqdm\n",
        "\n",
        "class Trainer():\n",
        "\n",
        "  def __init__(self):\n",
        "    self.train_losses = []\n",
        "    self.test_losses = []\n",
        "    self.train_acc = []\n",
        "    self.test_acc = []\n",
        "\n",
        "  def train(self, model, device, train_loader, optimizer, loss_func, epoch, lambda_l1):\n",
        "    model.train()\n",
        "    pbar = tqdm(train_loader)\n",
        "    correct = 0\n",
        "    processed = 0\n",
        "    for batch_idx, (data, target) in enumerate(pbar):\n",
        "      # get samples\n",
        "      data, target = data.to(device), target.to(device)\n",
        "\n",
        "      # Init\n",
        "      optimizer.zero_grad()\n",
        "      # In PyTorch, we need to set the gradients to zero before starting to do backpropragation because PyTorch accumulates the gradients on subsequent backward passes. \n",
        "      # Because of this, when you start your training loop, ideally you should zero out the gradients so that you do the parameter update correctly.\n",
        "\n",
        "      # Predict\n",
        "      y_pred = model(data)\n",
        "\n",
        "      # Calculate loss\n",
        "      loss = loss_func(y_pred, target)\n",
        "\n",
        "      # L2 loss\n",
        "\n",
        "      # L1 loss\n",
        "      l1 = 0\n",
        "      # lambda_l1 = 0.05\n",
        "      for p in model.parameters():\n",
        "        l1 = l1 + p.abs().sum()\n",
        "      loss = loss + lambda_l1*l1\n",
        "\n",
        "      self.train_losses.append(loss)\n",
        "\n",
        "      # Backpropagation\n",
        "      loss.backward()\n",
        "      optimizer.step()\n",
        "\n",
        "      # Learning rate for onecycle LR # Vamsi - added\n",
        "      # scheduler.step()\n",
        "\n",
        "      # Update pbar-tqdm\n",
        "      \n",
        "      pred = y_pred.argmax(dim=1, keepdim=True)  # get the index of the max log-probability\n",
        "      correct += pred.eq(target.view_as(pred)).sum().item()\n",
        "      processed += len(data)\n",
        "\n",
        "      # pbar.set_description(desc= f'Train set: Loss={loss.item()} Batch_id={batch_idx} Accuracy={100*correct/processed:0.2f}')\n",
        "      self.train_acc.append(100*correct/processed)\n",
        "\n",
        "  def test(self, model, device, test_loader):\n",
        "      model.eval()\n",
        "      test_loss = 0\n",
        "      correct = 0\n",
        "      with torch.no_grad():\n",
        "          for data, target in test_loader:\n",
        "              data, target = data.to(device), target.to(device)\n",
        "              output = model(data)\n",
        "              test_loss += F.nll_loss(output, target, reduction='sum').item()  # sum up batch loss\n",
        "              pred = output.argmax(dim=1, keepdim=True)  # get the index of the max log-probability\n",
        "              correct += pred.eq(target.view_as(pred)).sum().item()\n",
        "\n",
        "      test_loss /= len(test_loader.dataset)\n",
        "      self.test_losses.append(test_loss)\n",
        "\n",
        "      print('\\nTest set: Average loss: {:.4f}, Accuracy: {}/{} ({:.2f}%)\\n'.format(\n",
        "          test_loss, correct, len(test_loader.dataset),\n",
        "          100. * correct / len(test_loader.dataset)))\n",
        "      \n",
        "      self.test_acc.append(100. * correct / len(test_loader.dataset))\n",
        "\n",
        "  def getValues(self):\n",
        "    return (self.train_losses, self.test_losses, self.train_acc, self.test_acc)\n",
        "\n",
        "  def get_misclassified(self, model, test_loader, device):\n",
        "    misclassified = []\n",
        "    misclassified_pred = []\n",
        "    misclassified_target = []\n",
        "    # put the model to evaluation mode\n",
        "    model.eval()\n",
        "    # turn off gradients\n",
        "    with torch.no_grad():\n",
        "        for data, target in test_loader:\n",
        "          # move them to the respective device\n",
        "          data, target = data.to(device), target.to(device)\n",
        "          # do inferencing\n",
        "          output = model(data)\n",
        "          # get the predicted output\n",
        "          pred = output.argmax(dim=1, keepdim=True)\n",
        "\n",
        "          # get the current misclassified in this batch\n",
        "          list_misclassified = (pred.eq(target.view_as(pred)) == False)\n",
        "          batch_misclassified = data[list_misclassified]\n",
        "          batch_mis_pred = pred[list_misclassified]\n",
        "          batch_mis_target = target.view_as(pred)[list_misclassified]\n",
        "\n",
        "          misclassified.append(batch_misclassified)\n",
        "          misclassified_pred.append(batch_mis_pred)\n",
        "          misclassified_target.append(batch_mis_target)\n",
        "\n",
        "    # group all the batched together\n",
        "    misclassified = torch.cat(misclassified)\n",
        "    misclassified_pred = torch.cat(misclassified_pred)\n",
        "    misclassified_target = torch.cat(misclassified_target)\n",
        "\n",
        "    return list(map(lambda x, y, z: (x, y, z), misclassified, misclassified_pred, misclassified_target))"
      ],
      "execution_count": null,
      "outputs": []
    },
    {
      "cell_type": "code",
      "metadata": {
        "id": "iP6-vQu3ImfQ",
        "colab_type": "code",
        "colab": {
          "base_uri": "https://localhost:8080/",
          "height": 121,
          "referenced_widgets": [
            "b4182b00c57947ba839d6f5b672e459b",
            "93cd4de94d97465c925c0ea42607f365",
            "de09b0bd338649b3bf85c0e6590fef6e",
            "a783eeaea3684cca84b8e967ad0f2d66",
            "84881b6b4e7045e089aab3dc4bda1a8e",
            "401d5aeb7ebe464eab7bc360d9e875eb",
            "ca694c2b5f42445b8c47eb7074f9dfb3",
            "ce99ca5791804e6c9612278df364fcc3"
          ]
        },
        "outputId": "14c9c5a4-7786-4b44-cee6-a9d0fc6c6d87"
      },
      "source": [
        "transform = transforms.Compose(\n",
        "    [\n",
        "     # https://github.com/pytorch/vision/issues/1759\n",
        "    #  transforms.RandomRotation((-10.0, 10.0), fill=(0,)),\n",
        "     transforms.ToTensor(),\n",
        "     transforms.Normalize((0.5, 0.5, 0.5), (0.5, 0.5, 0.5))\n",
        "     ])\n",
        "\n",
        "trainset = torchvision.datasets.CIFAR10(root='./data', train=True,\n",
        "                                        download=True, transform=transform)\n",
        "trainloader = torch.utils.data.DataLoader(trainset, batch_size=4,\n",
        "                                          shuffle=True, num_workers=2)\n",
        "\n",
        "testset = torchvision.datasets.CIFAR10(root='./data', train=False,\n",
        "                                       download=True, transform=transform)\n",
        "testloader = torch.utils.data.DataLoader(testset, batch_size=4,\n",
        "                                         shuffle=False, num_workers=2)\n",
        "\n",
        "classes = ('plane', 'car', 'bird', 'cat',\n",
        "           'deer', 'dog', 'frog', 'horse', 'ship', 'truck')"
      ],
      "execution_count": null,
      "outputs": [
        {
          "output_type": "stream",
          "text": [
            "Downloading https://www.cs.toronto.edu/~kriz/cifar-10-python.tar.gz to ./data/cifar-10-python.tar.gz\n"
          ],
          "name": "stdout"
        },
        {
          "output_type": "display_data",
          "data": {
            "application/vnd.jupyter.widget-view+json": {
              "model_id": "b4182b00c57947ba839d6f5b672e459b",
              "version_minor": 0,
              "version_major": 2
            },
            "text/plain": [
              "HBox(children=(FloatProgress(value=1.0, bar_style='info', max=1.0), HTML(value='')))"
            ]
          },
          "metadata": {
            "tags": []
          }
        },
        {
          "output_type": "stream",
          "text": [
            "Extracting ./data/cifar-10-python.tar.gz to ./data\n",
            "Files already downloaded and verified\n"
          ],
          "name": "stdout"
        }
      ]
    },
    {
      "cell_type": "code",
      "metadata": {
        "id": "fTSvreg57051",
        "colab_type": "code",
        "colab": {
          "base_uri": "https://localhost:8080/",
          "height": 667
        },
        "outputId": "7409e394-f0d1-4575-9de5-918bfc5d752f"
      },
      "source": [
        "EPOCHS = 20\n",
        "\n",
        "trainer = Trainer()\n",
        "\n",
        "for epoch in range(EPOCHS):\n",
        "  # print(\"EPOCH:\", epoch, \"last LR=\",scheduler.get_last_lr(), \"LR = \", scheduler.get_lr())\n",
        "  print(\"EPOCH:\", epoch)\n",
        "  # def train(model, device, train_loader, optimizer, epoch, lambda_l1):\n",
        "  trainer.train(cifarmodel, device, trainloader, optimizer, lossfunc, epoch, 5e-4)\n",
        "  trainer.test(cifarmodel, device, testloader)\n",
        "  # scheduler.step() # for StepLR\n",
        "\n",
        "(train_losses, test_losses, train_acc, test_acc) = trainer.getValues()"
      ],
      "execution_count": null,
      "outputs": [
        {
          "output_type": "stream",
          "text": [
            "\r  0%|          | 0/12500 [00:00<?, ?it/s]"
          ],
          "name": "stderr"
        },
        {
          "output_type": "stream",
          "text": [
            "EPOCH: 0\n"
          ],
          "name": "stdout"
        },
        {
          "output_type": "stream",
          "text": [
            "100%|██████████| 12500/12500 [03:41<00:00, 56.48it/s]\n",
            "  0%|          | 0/12500 [00:00<?, ?it/s]"
          ],
          "name": "stderr"
        },
        {
          "output_type": "stream",
          "text": [
            "\n",
            "Test set: Average loss: 1.5476, Accuracy: 4376/10000 (43.76%)\n",
            "\n",
            "EPOCH: 1\n"
          ],
          "name": "stdout"
        },
        {
          "output_type": "stream",
          "text": [
            "100%|██████████| 12500/12500 [03:38<00:00, 57.27it/s]\n",
            "  0%|          | 0/12500 [00:00<?, ?it/s]"
          ],
          "name": "stderr"
        },
        {
          "output_type": "stream",
          "text": [
            "\n",
            "Test set: Average loss: 1.4273, Accuracy: 5103/10000 (51.03%)\n",
            "\n",
            "EPOCH: 2\n"
          ],
          "name": "stdout"
        },
        {
          "output_type": "stream",
          "text": [
            "100%|██████████| 12500/12500 [03:33<00:00, 58.47it/s]\n",
            "  0%|          | 0/12500 [00:00<?, ?it/s]"
          ],
          "name": "stderr"
        },
        {
          "output_type": "stream",
          "text": [
            "\n",
            "Test set: Average loss: 1.4537, Accuracy: 4919/10000 (49.19%)\n",
            "\n",
            "EPOCH: 3\n"
          ],
          "name": "stdout"
        },
        {
          "output_type": "stream",
          "text": [
            " 39%|███▉      | 4873/12500 [01:28<02:16, 56.03it/s]"
          ],
          "name": "stderr"
        }
      ]
    },
    {
      "cell_type": "code",
      "metadata": {
        "id": "P4sGTpWC72_I",
        "colab_type": "code",
        "colab": {}
      },
      "source": [
        "print('Finished Training')"
      ],
      "execution_count": null,
      "outputs": []
    },
    {
      "cell_type": "code",
      "metadata": {
        "id": "Wpp85I_n73IX",
        "colab_type": "code",
        "colab": {}
      },
      "source": [
        "trainer.test(cifarmodel, device, testloader)"
      ],
      "execution_count": null,
      "outputs": []
    },
    {
      "cell_type": "code",
      "metadata": {
        "id": "NS-aONP373OO",
        "colab_type": "code",
        "colab": {}
      },
      "source": [
        ""
      ],
      "execution_count": null,
      "outputs": []
    },
    {
      "cell_type": "code",
      "metadata": {
        "id": "96U8QU1-uPbc",
        "colab_type": "code",
        "colab": {}
      },
      "source": [
        "# for epoch in range(2):  # loop over the dataset multiple times\n",
        "\n",
        "#     running_loss = 0.0\n",
        "#     for i, data in enumerate(trainloader, 0):\n",
        "#         # get the inputs\n",
        "#         inputs, labels = data\n",
        "\n",
        "#         inputs, labels = inputs.to(device), labels.to(device)\n",
        "\n",
        "#         # zero the parameter gradients\n",
        "#         optimizer.zero_grad()\n",
        "\n",
        "#         # forward + backward + optimize\n",
        "#         outputs = cifarmodel(inputs)\n",
        "#         loss = criterion(outputs, labels)\n",
        "#         loss.backward()\n",
        "#         optimizer.step()\n",
        "\n",
        "#         # print statistics\n",
        "#         running_loss += loss.item()\n",
        "#         if i % 2000 == 1999:    # print every 2000 mini-batches\n",
        "#             print('[%d, %5d] loss: %.3f' %\n",
        "#                   (epoch + 1, i + 1, running_loss / 2000))\n",
        "#             running_loss = 0.0\n",
        "\n",
        "# print('Finished Training')"
      ],
      "execution_count": null,
      "outputs": []
    },
    {
      "cell_type": "code",
      "metadata": {
        "id": "v_B8Ov0YuJkq",
        "colab_type": "code",
        "colab": {}
      },
      "source": [
        "# dataiter = iter(testloader)\n",
        "# images, labels = dataiter.next()\n",
        "\n",
        "# # print images\n",
        "# # imshow(torchvision.utils.make_grid(images))\n",
        "# # print('GroundTruth: ', ' '.join('%5s' % classes[labels[j]] for j in range(4)))"
      ],
      "execution_count": null,
      "outputs": []
    }
  ]
}