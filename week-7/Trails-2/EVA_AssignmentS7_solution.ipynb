{
  "nbformat": 4,
  "nbformat_minor": 0,
  "metadata": {
    "kernelspec": {
      "display_name": "Python 3",
      "language": "python",
      "name": "python3"
    },
    "language_info": {
      "codemirror_mode": {
        "name": "ipython",
        "version": 3
      },
      "file_extension": ".py",
      "mimetype": "text/x-python",
      "name": "python",
      "nbconvert_exporter": "python",
      "pygments_lexer": "ipython3",
      "version": "3.8.3"
    },
    "colab": {
      "name": "EVA_AssignmentS7_solution.ipynb",
      "provenance": []
    }
  },
  "cells": [
    {
      "cell_type": "markdown",
      "metadata": {
        "id": "NqG18PP_bysn",
        "colab_type": "text"
      },
      "source": [
        "# Imports and Initialization\n",
        "## Import required modules"
      ]
    },
    {
      "cell_type": "code",
      "metadata": {
        "id": "qsYXZc1Hb_ZD",
        "colab_type": "code",
        "colab": {
          "base_uri": "https://localhost:8080/",
          "height": 146
        },
        "outputId": "bccfd453-fbba-41a9-8f30-e00e591fb27b"
      },
      "source": [
        "!git clone https://github.com/vamsigp/EVA5"
      ],
      "execution_count": 1,
      "outputs": [
        {
          "output_type": "stream",
          "text": [
            "Cloning into 'EVA5'...\n",
            "remote: Enumerating objects: 178, done.\u001b[K\n",
            "remote: Counting objects: 100% (178/178), done.\u001b[K\n",
            "remote: Compressing objects: 100% (134/134), done.\u001b[K\n",
            "remote: Total 178 (delta 69), reused 123 (delta 32), pack-reused 0\u001b[K\n",
            "Receiving objects: 100% (178/178), 14.34 MiB | 7.34 MiB/s, done.\n",
            "Resolving deltas: 100% (69/69), done.\n"
          ],
          "name": "stdout"
        }
      ]
    },
    {
      "cell_type": "code",
      "metadata": {
        "id": "lOfzc8LFcstz",
        "colab_type": "code",
        "colab": {
          "base_uri": "https://localhost:8080/",
          "height": 35
        },
        "outputId": "d92426f0-49f0-401b-d80d-47a8d66cc721"
      },
      "source": [
        "%cd EVA5/week-7/Trails-2/ "
      ],
      "execution_count": 2,
      "outputs": [
        {
          "output_type": "stream",
          "text": [
            "/content/EVA5/week-7/Trails-2\n"
          ],
          "name": "stdout"
        }
      ]
    },
    {
      "cell_type": "code",
      "metadata": {
        "id": "AWe051vtdQMN",
        "colab_type": "code",
        "colab": {}
      },
      "source": [
        ""
      ],
      "execution_count": 2,
      "outputs": []
    },
    {
      "cell_type": "code",
      "metadata": {
        "id": "7WMfEs5-byst",
        "colab_type": "code",
        "colab": {}
      },
      "source": [
        "import torch\n",
        "import torchvision\n",
        "import torch.nn as nn\n",
        "import torch.optim as optim\n",
        "from config import ModelConfig\n",
        "from data_engine import DataEngine\n",
        "from model import Net\n",
        "from train import train\n",
        "from test import test\n",
        "from results import plot_misclassified_images, plot_graph\n",
        "from utils import *"
      ],
      "execution_count": 3,
      "outputs": []
    },
    {
      "cell_type": "markdown",
      "metadata": {
        "id": "3NNKaMOcbytD",
        "colab_type": "text"
      },
      "source": [
        "# Model Configuration and Set Seed\n",
        "### View model configuration and set the seed"
      ]
    },
    {
      "cell_type": "code",
      "metadata": {
        "id": "pliDF2u0bytQ",
        "colab_type": "code",
        "colab": {
          "base_uri": "https://localhost:8080/",
          "height": 164
        },
        "outputId": "45f5fe19-4a9a-40f7-e9d8-3bbc788c87b4"
      },
      "source": [
        "# View model config\n",
        "args = ModelConfig()\n",
        "args.print_config()\n",
        "\n",
        "print()\n",
        "# Set seed\n",
        "init_seed(args)"
      ],
      "execution_count": 4,
      "outputs": [
        {
          "output_type": "stream",
          "text": [
            "Model Parameters:\n",
            "{ 'batch_size_cpu': 64,\n",
            "  'batch_size_cuda': 64,\n",
            "  'dropout_value': 0.15,\n",
            "  'epochs': 50,\n",
            "  'num_workers': 4,\n",
            "  'seed': 1}\n",
            "\n"
          ],
          "name": "stdout"
        }
      ]
    },
    {
      "cell_type": "markdown",
      "metadata": {
        "id": "R1Vds2KBbyts",
        "colab_type": "text"
      },
      "source": [
        "# Data Loading and Visualization\n",
        "## Preprocess and load the cifar10 dataset. Visualise the dataset."
      ]
    },
    {
      "cell_type": "code",
      "metadata": {
        "id": "4Bs0YbyBbytz",
        "colab_type": "code",
        "colab": {
          "base_uri": "https://localhost:8080/",
          "height": 193
        },
        "outputId": "f19085f8-bfe2-4471-b89e-762e3ee20efc"
      },
      "source": [
        "data = DataEngine(args)\n",
        "\n",
        "# get some random training images\n",
        "dataiter = iter(data.train_loader)\n",
        "images, labels = dataiter.next()\n",
        "\n",
        "# show images\n",
        "imshow(torchvision.utils.make_grid(images[:4]))\n",
        "# print labels\n",
        "print(' '.join('%5s' % data.classes[labels[j]] for j in range(4)))"
      ],
      "execution_count": 6,
      "outputs": [
        {
          "output_type": "stream",
          "text": [
            "Files already downloaded and verified\n",
            "Files already downloaded and verified\n",
            "  cat  deer  deer   dog\n"
          ],
          "name": "stdout"
        },
        {
          "output_type": "display_data",
          "data": {
            "image/png": "[encoded data removed]",
            "text/plain": [
              "<Figure size 432x288 with 1 Axes>"
            ]
          },
          "metadata": {
            "tags": [],
            "needs_background": "light"
          }
        }
      ]
    },
    {
      "cell_type": "code",
      "metadata": {
        "id": "fh7XWiMcbyuJ",
        "colab_type": "code",
        "colab": {
          "base_uri": "https://localhost:8080/",
          "height": 899
        },
        "outputId": "78112b97-6240-4870-e3af-9551ea2d50d5"
      },
      "source": [
        "device = which_device()\n",
        "model = Net(args).to(device)\n",
        "show_model_summary(model, device, (3,32,32))"
      ],
      "execution_count": 7,
      "outputs": [
        {
          "output_type": "stream",
          "text": [
            "----------------------------------------------------------------\n",
            "        Layer (type)               Output Shape         Param #\n",
            "================================================================\n",
            "            Conv2d-1           [-1, 32, 32, 32]             864\n",
            "              ReLU-2           [-1, 32, 32, 32]               0\n",
            "       BatchNorm2d-3           [-1, 32, 32, 32]              64\n",
            "           Dropout-4           [-1, 32, 32, 32]               0\n",
            "            Conv2d-5           [-1, 32, 32, 32]           9,216\n",
            "              ReLU-6           [-1, 32, 32, 32]               0\n",
            "       BatchNorm2d-7           [-1, 32, 32, 32]              64\n",
            "         MaxPool2d-8           [-1, 32, 16, 16]               0\n",
            "            Conv2d-9           [-1, 64, 16, 16]          18,432\n",
            "             ReLU-10           [-1, 64, 16, 16]               0\n",
            "      BatchNorm2d-11           [-1, 64, 16, 16]             128\n",
            "          Dropout-12           [-1, 64, 16, 16]               0\n",
            "           Conv2d-13           [-1, 64, 16, 16]          36,864\n",
            "             ReLU-14           [-1, 64, 16, 16]               0\n",
            "      BatchNorm2d-15           [-1, 64, 16, 16]             128\n",
            "        MaxPool2d-16             [-1, 64, 8, 8]               0\n",
            "           Conv2d-17             [-1, 64, 8, 8]             576\n",
            "           Conv2d-18             [-1, 64, 8, 8]           4,096\n",
            "             ReLU-19             [-1, 64, 8, 8]               0\n",
            "      BatchNorm2d-20             [-1, 64, 8, 8]             128\n",
            "          Dropout-21             [-1, 64, 8, 8]               0\n",
            "           Conv2d-22             [-1, 64, 8, 8]          36,864\n",
            "             ReLU-23             [-1, 64, 8, 8]               0\n",
            "      BatchNorm2d-24             [-1, 64, 8, 8]             128\n",
            "        MaxPool2d-25             [-1, 64, 4, 4]               0\n",
            "           Conv2d-26            [-1, 128, 2, 2]          73,728\n",
            "             ReLU-27            [-1, 128, 2, 2]               0\n",
            "      BatchNorm2d-28            [-1, 128, 2, 2]             256\n",
            "          Dropout-29            [-1, 128, 2, 2]               0\n",
            "           Conv2d-30            [-1, 128, 2, 2]         147,456\n",
            "             ReLU-31            [-1, 128, 2, 2]               0\n",
            "      BatchNorm2d-32            [-1, 128, 2, 2]             256\n",
            "AdaptiveAvgPool2d-33            [-1, 128, 1, 1]               0\n",
            "           Linear-34                   [-1, 10]           1,290\n",
            "================================================================\n",
            "Total params: 330,538\n",
            "Trainable params: 330,538\n",
            "Non-trainable params: 0\n",
            "----------------------------------------------------------------\n",
            "Input size (MB): 0.01\n",
            "Forward/backward pass size (MB): 3.00\n",
            "Params size (MB): 1.26\n",
            "Estimated Total Size (MB): 4.28\n",
            "----------------------------------------------------------------\n",
            "None\n"
          ],
          "name": "stdout"
        }
      ]
    },
    {
      "cell_type": "code",
      "metadata": {
        "id": "JpVtV1HKbyue",
        "colab_type": "code",
        "colab": {
          "base_uri": "https://localhost:8080/",
          "height": 1000
        },
        "outputId": "96d59d89-187d-40f9-e87d-4e0aefc61d65"
      },
      "source": [
        "criterion = nn.CrossEntropyLoss()\n",
        "optimizer = optim.SGD(model.parameters(), lr=0.001, momentum=0.9, weight_decay=0.001)\n",
        "\n",
        "def run():\n",
        "  test_losses = []\n",
        "  test_accs = []\n",
        "  misclassified_imgs = []\n",
        "  for epoch in range(args.epochs):\n",
        "      print(\"EPOCH:\", epoch+1)\n",
        "      train(model, device, data.train_loader, criterion, optimizer, epoch)\n",
        "      test(model, device, data.test_loader, criterion, data.classes, test_losses, test_accs, misclassified_imgs, epoch==args.epochs-1)\n",
        "  return test_losses, test_accs, misclassified_imgs\n",
        "\n",
        "# train and test the model\n",
        "test_losses, test_accs, misclassified_imgs = run()"
      ],
      "execution_count": 8,
      "outputs": [
        {
          "output_type": "stream",
          "text": [
            "\r  0%|          | 0/782 [00:00<?, ?it/s]"
          ],
          "name": "stderr"
        },
        {
          "output_type": "stream",
          "text": [
            "EPOCH: 1\n"
          ],
          "name": "stdout"
        },
        {
          "output_type": "stream",
          "text": [
            "Loss=1.0792840719223022 Batch_id=781 Accuracy=46.99: 100%|██████████| 782/782 [05:23<00:00,  2.41it/s]\n",
            "  0%|          | 0/782 [00:00<?, ?it/s]"
          ],
          "name": "stderr"
        },
        {
          "output_type": "stream",
          "text": [
            "Test set: Average loss: 0.0186, Accuracy: 5727/10000 (57.27%)\n",
            "\n",
            "EPOCH: 2\n"
          ],
          "name": "stdout"
        },
        {
          "output_type": "stream",
          "text": [
            "Loss=1.2973641157150269 Batch_id=781 Accuracy=62.02: 100%|██████████| 782/782 [05:17<00:00,  2.47it/s]\n",
            "  0%|          | 0/782 [00:00<?, ?it/s]"
          ],
          "name": "stderr"
        },
        {
          "output_type": "stream",
          "text": [
            "Test set: Average loss: 0.0153, Accuracy: 6568/10000 (65.68%)\n",
            "\n",
            "EPOCH: 3\n"
          ],
          "name": "stdout"
        },
        {
          "output_type": "stream",
          "text": [
            "Loss=1.1276310682296753 Batch_id=781 Accuracy=67.69: 100%|██████████| 782/782 [05:17<00:00,  2.46it/s]\n",
            "  0%|          | 0/782 [00:00<?, ?it/s]"
          ],
          "name": "stderr"
        },
        {
          "output_type": "stream",
          "text": [
            "Test set: Average loss: 0.0131, Accuracy: 7011/10000 (70.11%)\n",
            "\n",
            "EPOCH: 4\n"
          ],
          "name": "stdout"
        },
        {
          "output_type": "stream",
          "text": [
            "Loss=0.5081765651702881 Batch_id=781 Accuracy=71.36: 100%|██████████| 782/782 [05:15<00:00,  2.48it/s]\n",
            "  0%|          | 0/782 [00:00<?, ?it/s]"
          ],
          "name": "stderr"
        },
        {
          "output_type": "stream",
          "text": [
            "Test set: Average loss: 0.0124, Accuracy: 7176/10000 (71.76%)\n",
            "\n",
            "EPOCH: 5\n"
          ],
          "name": "stdout"
        },
        {
          "output_type": "stream",
          "text": [
            "Loss=0.47301530838012695 Batch_id=781 Accuracy=73.98: 100%|██████████| 782/782 [05:16<00:00,  2.47it/s]\n",
            "  0%|          | 0/782 [00:00<?, ?it/s]"
          ],
          "name": "stderr"
        },
        {
          "output_type": "stream",
          "text": [
            "Test set: Average loss: 0.0113, Accuracy: 7466/10000 (74.66%)\n",
            "\n",
            "EPOCH: 6\n"
          ],
          "name": "stdout"
        },
        {
          "output_type": "stream",
          "text": [
            "Loss=0.8508286476135254 Batch_id=781 Accuracy=75.60: 100%|██████████| 782/782 [05:16<00:00,  2.47it/s]\n",
            "  0%|          | 0/782 [00:00<?, ?it/s]"
          ],
          "name": "stderr"
        },
        {
          "output_type": "stream",
          "text": [
            "Test set: Average loss: 0.0108, Accuracy: 7626/10000 (76.26%)\n",
            "\n",
            "EPOCH: 7\n"
          ],
          "name": "stdout"
        },
        {
          "output_type": "stream",
          "text": [
            "Loss=0.9121752381324768 Batch_id=781 Accuracy=76.95: 100%|██████████| 782/782 [05:18<00:00,  2.46it/s]\n",
            "  0%|          | 0/782 [00:00<?, ?it/s]"
          ],
          "name": "stderr"
        },
        {
          "output_type": "stream",
          "text": [
            "Test set: Average loss: 0.0103, Accuracy: 7718/10000 (77.18%)\n",
            "\n",
            "EPOCH: 8\n"
          ],
          "name": "stdout"
        },
        {
          "output_type": "stream",
          "text": [
            "Loss=0.5541428923606873 Batch_id=781 Accuracy=78.31: 100%|██████████| 782/782 [05:15<00:00,  2.48it/s]\n",
            "  0%|          | 0/782 [00:00<?, ?it/s]"
          ],
          "name": "stderr"
        },
        {
          "output_type": "stream",
          "text": [
            "Test set: Average loss: 0.0102, Accuracy: 7749/10000 (77.49%)\n",
            "\n",
            "EPOCH: 9\n"
          ],
          "name": "stdout"
        },
        {
          "output_type": "stream",
          "text": [
            "Loss=0.4542817771434784 Batch_id=781 Accuracy=79.38: 100%|██████████| 782/782 [05:18<00:00,  2.46it/s]\n",
            "  0%|          | 0/782 [00:00<?, ?it/s]"
          ],
          "name": "stderr"
        },
        {
          "output_type": "stream",
          "text": [
            "Test set: Average loss: 0.0095, Accuracy: 7898/10000 (78.98%)\n",
            "\n",
            "EPOCH: 10\n"
          ],
          "name": "stdout"
        },
        {
          "output_type": "stream",
          "text": [
            "Loss=0.8242830634117126 Batch_id=781 Accuracy=80.14: 100%|██████████| 782/782 [05:14<00:00,  2.49it/s]\n",
            "  0%|          | 0/782 [00:00<?, ?it/s]"
          ],
          "name": "stderr"
        },
        {
          "output_type": "stream",
          "text": [
            "Test set: Average loss: 0.0093, Accuracy: 7958/10000 (79.58%)\n",
            "\n",
            "EPOCH: 11\n"
          ],
          "name": "stdout"
        },
        {
          "output_type": "stream",
          "text": [
            "Loss=0.7859362363815308 Batch_id=781 Accuracy=81.00: 100%|██████████| 782/782 [05:18<00:00,  2.46it/s]\n",
            "  0%|          | 0/782 [00:00<?, ?it/s]"
          ],
          "name": "stderr"
        },
        {
          "output_type": "stream",
          "text": [
            "Test set: Average loss: 0.0090, Accuracy: 8026/10000 (80.26%)\n",
            "\n",
            "EPOCH: 12\n"
          ],
          "name": "stdout"
        },
        {
          "output_type": "stream",
          "text": [
            "Loss=0.29747912287712097 Batch_id=781 Accuracy=81.52: 100%|██████████| 782/782 [05:12<00:00,  2.50it/s]\n",
            "  0%|          | 0/782 [00:00<?, ?it/s]"
          ],
          "name": "stderr"
        },
        {
          "output_type": "stream",
          "text": [
            "Test set: Average loss: 0.0089, Accuracy: 8083/10000 (80.83%)\n",
            "\n",
            "EPOCH: 13\n"
          ],
          "name": "stdout"
        },
        {
          "output_type": "stream",
          "text": [
            "Loss=0.3388137221336365 Batch_id=781 Accuracy=82.17: 100%|██████████| 782/782 [05:13<00:00,  2.49it/s]\n",
            "  0%|          | 0/782 [00:00<?, ?it/s]"
          ],
          "name": "stderr"
        },
        {
          "output_type": "stream",
          "text": [
            "Test set: Average loss: 0.0089, Accuracy: 8065/10000 (80.65%)\n",
            "\n",
            "EPOCH: 14\n"
          ],
          "name": "stdout"
        },
        {
          "output_type": "stream",
          "text": [
            "Loss=0.5865290760993958 Batch_id=781 Accuracy=83.11: 100%|██████████| 782/782 [05:10<00:00,  2.52it/s]\n",
            "  0%|          | 0/782 [00:00<?, ?it/s]"
          ],
          "name": "stderr"
        },
        {
          "output_type": "stream",
          "text": [
            "Test set: Average loss: 0.0086, Accuracy: 8111/10000 (81.11%)\n",
            "\n",
            "EPOCH: 15\n"
          ],
          "name": "stdout"
        },
        {
          "output_type": "stream",
          "text": [
            "Loss=0.5351171493530273 Batch_id=781 Accuracy=83.67: 100%|██████████| 782/782 [05:11<00:00,  2.51it/s]\n",
            "  0%|          | 0/782 [00:00<?, ?it/s]"
          ],
          "name": "stderr"
        },
        {
          "output_type": "stream",
          "text": [
            "Test set: Average loss: 0.0084, Accuracy: 8156/10000 (81.56%)\n",
            "\n",
            "EPOCH: 16\n"
          ],
          "name": "stdout"
        },
        {
          "output_type": "stream",
          "text": [
            "Loss=1.000867486000061 Batch_id=781 Accuracy=84.14: 100%|██████████| 782/782 [05:12<00:00,  2.50it/s]\n",
            "  0%|          | 0/782 [00:00<?, ?it/s]"
          ],
          "name": "stderr"
        },
        {
          "output_type": "stream",
          "text": [
            "Test set: Average loss: 0.0082, Accuracy: 8217/10000 (82.17%)\n",
            "\n",
            "EPOCH: 17\n"
          ],
          "name": "stdout"
        },
        {
          "output_type": "stream",
          "text": [
            "Loss=0.15314266085624695 Batch_id=781 Accuracy=84.75: 100%|██████████| 782/782 [05:11<00:00,  2.51it/s]\n",
            "  0%|          | 0/782 [00:00<?, ?it/s]"
          ],
          "name": "stderr"
        },
        {
          "output_type": "stream",
          "text": [
            "Test set: Average loss: 0.0083, Accuracy: 8236/10000 (82.36%)\n",
            "\n",
            "EPOCH: 18\n"
          ],
          "name": "stdout"
        },
        {
          "output_type": "stream",
          "text": [
            "Loss=0.7156851887702942 Batch_id=781 Accuracy=85.01: 100%|██████████| 782/782 [05:14<00:00,  2.49it/s]\n",
            "  0%|          | 0/782 [00:00<?, ?it/s]"
          ],
          "name": "stderr"
        },
        {
          "output_type": "stream",
          "text": [
            "Test set: Average loss: 0.0081, Accuracy: 8240/10000 (82.40%)\n",
            "\n",
            "EPOCH: 19\n"
          ],
          "name": "stdout"
        },
        {
          "output_type": "stream",
          "text": [
            "Loss=0.9078231453895569 Batch_id=781 Accuracy=85.38: 100%|██████████| 782/782 [05:10<00:00,  2.52it/s]\n",
            "  0%|          | 0/782 [00:00<?, ?it/s]"
          ],
          "name": "stderr"
        },
        {
          "output_type": "stream",
          "text": [
            "Test set: Average loss: 0.0082, Accuracy: 8218/10000 (82.18%)\n",
            "\n",
            "EPOCH: 20\n"
          ],
          "name": "stdout"
        },
        {
          "output_type": "stream",
          "text": [
            "Loss=0.3688089847564697 Batch_id=781 Accuracy=85.63: 100%|██████████| 782/782 [05:13<00:00,  2.49it/s]\n",
            "  0%|          | 0/782 [00:00<?, ?it/s]"
          ],
          "name": "stderr"
        },
        {
          "output_type": "stream",
          "text": [
            "Test set: Average loss: 0.0079, Accuracy: 8287/10000 (82.87%)\n",
            "\n",
            "EPOCH: 21\n"
          ],
          "name": "stdout"
        },
        {
          "output_type": "stream",
          "text": [
            "Loss=0.0848155990242958 Batch_id=781 Accuracy=86.15: 100%|██████████| 782/782 [05:10<00:00,  2.52it/s]\n",
            "  0%|          | 0/782 [00:00<?, ?it/s]"
          ],
          "name": "stderr"
        },
        {
          "output_type": "stream",
          "text": [
            "Test set: Average loss: 0.0078, Accuracy: 8338/10000 (83.38%)\n",
            "\n",
            "EPOCH: 22\n"
          ],
          "name": "stdout"
        },
        {
          "output_type": "stream",
          "text": [
            "Loss=0.7409461736679077 Batch_id=781 Accuracy=86.22: 100%|██████████| 782/782 [05:12<00:00,  2.50it/s]\n",
            "  0%|          | 0/782 [00:00<?, ?it/s]"
          ],
          "name": "stderr"
        },
        {
          "output_type": "stream",
          "text": [
            "Test set: Average loss: 0.0078, Accuracy: 8370/10000 (83.70%)\n",
            "\n",
            "EPOCH: 23\n"
          ],
          "name": "stdout"
        },
        {
          "output_type": "stream",
          "text": [
            "Loss=0.32902684807777405 Batch_id=781 Accuracy=86.73: 100%|██████████| 782/782 [05:10<00:00,  2.52it/s]\n",
            "  0%|          | 0/782 [00:00<?, ?it/s]"
          ],
          "name": "stderr"
        },
        {
          "output_type": "stream",
          "text": [
            "Test set: Average loss: 0.0075, Accuracy: 8401/10000 (84.01%)\n",
            "\n",
            "EPOCH: 24\n"
          ],
          "name": "stdout"
        },
        {
          "output_type": "stream",
          "text": [
            "Loss=0.6716322898864746 Batch_id=781 Accuracy=86.84: 100%|██████████| 782/782 [05:14<00:00,  2.48it/s]\n",
            "  0%|          | 0/782 [00:00<?, ?it/s]"
          ],
          "name": "stderr"
        },
        {
          "output_type": "stream",
          "text": [
            "Test set: Average loss: 0.0078, Accuracy: 8324/10000 (83.24%)\n",
            "\n",
            "EPOCH: 25\n"
          ],
          "name": "stdout"
        },
        {
          "output_type": "stream",
          "text": [
            "Loss=0.6205192804336548 Batch_id=781 Accuracy=87.19: 100%|██████████| 782/782 [05:11<00:00,  2.51it/s]\n",
            "  0%|          | 0/782 [00:00<?, ?it/s]"
          ],
          "name": "stderr"
        },
        {
          "output_type": "stream",
          "text": [
            "Test set: Average loss: 0.0076, Accuracy: 8381/10000 (83.81%)\n",
            "\n",
            "EPOCH: 26\n"
          ],
          "name": "stdout"
        },
        {
          "output_type": "stream",
          "text": [
            "Loss=0.5150882601737976 Batch_id=781 Accuracy=87.49: 100%|██████████| 782/782 [05:11<00:00,  2.51it/s]\n",
            "  0%|          | 0/782 [00:00<?, ?it/s]"
          ],
          "name": "stderr"
        },
        {
          "output_type": "stream",
          "text": [
            "Test set: Average loss: 0.0074, Accuracy: 8407/10000 (84.07%)\n",
            "\n",
            "EPOCH: 27\n"
          ],
          "name": "stdout"
        },
        {
          "output_type": "stream",
          "text": [
            "Loss=0.35813435912132263 Batch_id=781 Accuracy=87.62: 100%|██████████| 782/782 [05:11<00:00,  2.51it/s]\n",
            "  0%|          | 0/782 [00:00<?, ?it/s]"
          ],
          "name": "stderr"
        },
        {
          "output_type": "stream",
          "text": [
            "Test set: Average loss: 0.0074, Accuracy: 8420/10000 (84.20%)\n",
            "\n",
            "EPOCH: 28\n"
          ],
          "name": "stdout"
        },
        {
          "output_type": "stream",
          "text": [
            "Loss=0.8642839193344116 Batch_id=781 Accuracy=88.26: 100%|██████████| 782/782 [05:11<00:00,  2.51it/s]\n",
            "  0%|          | 0/782 [00:00<?, ?it/s]"
          ],
          "name": "stderr"
        },
        {
          "output_type": "stream",
          "text": [
            "Test set: Average loss: 0.0074, Accuracy: 8413/10000 (84.13%)\n",
            "\n",
            "EPOCH: 29\n"
          ],
          "name": "stdout"
        },
        {
          "output_type": "stream",
          "text": [
            "Loss=0.5014004111289978 Batch_id=781 Accuracy=88.30: 100%|██████████| 782/782 [05:14<00:00,  2.49it/s]\n",
            "  0%|          | 0/782 [00:00<?, ?it/s]"
          ],
          "name": "stderr"
        },
        {
          "output_type": "stream",
          "text": [
            "Test set: Average loss: 0.0073, Accuracy: 8435/10000 (84.35%)\n",
            "\n",
            "EPOCH: 30\n"
          ],
          "name": "stdout"
        },
        {
          "output_type": "stream",
          "text": [
            "Loss=0.16577598452568054 Batch_id=781 Accuracy=88.59: 100%|██████████| 782/782 [05:11<00:00,  2.51it/s]\n",
            "  0%|          | 0/782 [00:00<?, ?it/s]"
          ],
          "name": "stderr"
        },
        {
          "output_type": "stream",
          "text": [
            "Test set: Average loss: 0.0074, Accuracy: 8396/10000 (83.96%)\n",
            "\n",
            "EPOCH: 31\n"
          ],
          "name": "stdout"
        },
        {
          "output_type": "stream",
          "text": [
            "Loss=0.2342316061258316 Batch_id=781 Accuracy=88.67: 100%|██████████| 782/782 [05:11<00:00,  2.51it/s]\n",
            "  0%|          | 0/782 [00:00<?, ?it/s]"
          ],
          "name": "stderr"
        },
        {
          "output_type": "stream",
          "text": [
            "Test set: Average loss: 0.0073, Accuracy: 8457/10000 (84.57%)\n",
            "\n",
            "EPOCH: 32\n"
          ],
          "name": "stdout"
        },
        {
          "output_type": "stream",
          "text": [
            "Loss=0.3497718870639801 Batch_id=781 Accuracy=88.97: 100%|██████████| 782/782 [05:09<00:00,  2.52it/s]\n",
            "  0%|          | 0/782 [00:00<?, ?it/s]"
          ],
          "name": "stderr"
        },
        {
          "output_type": "stream",
          "text": [
            "\n",
            "Accuracy of plane : 88 %\n",
            "Accuracy of   car : 86 %\n",
            "Accuracy of  bird : 77 %\n",
            "Accuracy of   cat : 67 %\n",
            "Accuracy of  deer : 84 %\n",
            "Accuracy of   dog : 74 %\n",
            "Accuracy of  frog : 93 %\n",
            "Accuracy of horse : 78 %\n",
            "Accuracy of  ship : 85 %\n",
            "Accuracy of truck : 84 %\n",
            "\n",
            "Test set: Average loss: 0.0071, Accuracy: 8502/10000 (85.02%)\n",
            "\n",
            "EPOCH: 33\n"
          ],
          "name": "stdout"
        },
        {
          "output_type": "stream",
          "text": [
            "Loss=0.3964238166809082 Batch_id=781 Accuracy=89.21: 100%|██████████| 782/782 [05:10<00:00,  2.52it/s]\n",
            "  0%|          | 0/782 [00:00<?, ?it/s]"
          ],
          "name": "stderr"
        },
        {
          "output_type": "stream",
          "text": [
            "Test set: Average loss: 0.0074, Accuracy: 8422/10000 (84.22%)\n",
            "\n",
            "EPOCH: 34\n"
          ],
          "name": "stdout"
        },
        {
          "output_type": "stream",
          "text": [
            "Loss=0.35850876569747925 Batch_id=781 Accuracy=89.28: 100%|██████████| 782/782 [05:11<00:00,  2.51it/s]\n",
            "  0%|          | 0/782 [00:00<?, ?it/s]"
          ],
          "name": "stderr"
        },
        {
          "output_type": "stream",
          "text": [
            "Test set: Average loss: 0.0074, Accuracy: 8435/10000 (84.35%)\n",
            "\n",
            "EPOCH: 35\n"
          ],
          "name": "stdout"
        },
        {
          "output_type": "stream",
          "text": [
            "Loss=0.6488564014434814 Batch_id=781 Accuracy=89.34: 100%|██████████| 782/782 [05:07<00:00,  2.54it/s]\n",
            "  0%|          | 0/782 [00:00<?, ?it/s]"
          ],
          "name": "stderr"
        },
        {
          "output_type": "stream",
          "text": [
            "Test set: Average loss: 0.0073, Accuracy: 8455/10000 (84.55%)\n",
            "\n",
            "EPOCH: 36\n"
          ],
          "name": "stdout"
        },
        {
          "output_type": "stream",
          "text": [
            "Loss=0.7476283311843872 Batch_id=781 Accuracy=89.57: 100%|██████████| 782/782 [05:08<00:00,  2.53it/s]\n",
            "  0%|          | 0/782 [00:00<?, ?it/s]"
          ],
          "name": "stderr"
        },
        {
          "output_type": "stream",
          "text": [
            "Test set: Average loss: 0.0074, Accuracy: 8439/10000 (84.39%)\n",
            "\n",
            "EPOCH: 37\n"
          ],
          "name": "stdout"
        },
        {
          "output_type": "stream",
          "text": [
            "Loss=0.3207833170890808 Batch_id=781 Accuracy=89.80: 100%|██████████| 782/782 [05:07<00:00,  2.54it/s]\n",
            "  0%|          | 0/782 [00:00<?, ?it/s]"
          ],
          "name": "stderr"
        },
        {
          "output_type": "stream",
          "text": [
            "Test set: Average loss: 0.0074, Accuracy: 8460/10000 (84.60%)\n",
            "\n",
            "EPOCH: 38\n"
          ],
          "name": "stdout"
        },
        {
          "output_type": "stream",
          "text": [
            "Loss=0.19647032022476196 Batch_id=781 Accuracy=89.79: 100%|██████████| 782/782 [05:07<00:00,  2.54it/s]\n",
            "  0%|          | 0/782 [00:00<?, ?it/s]"
          ],
          "name": "stderr"
        },
        {
          "output_type": "stream",
          "text": [
            "\n",
            "Accuracy of plane : 83 %\n",
            "Accuracy of   car : 95 %\n",
            "Accuracy of  bird : 72 %\n",
            "Accuracy of   cat : 66 %\n",
            "Accuracy of  deer : 85 %\n",
            "Accuracy of   dog : 89 %\n",
            "Accuracy of  frog : 89 %\n",
            "Accuracy of horse : 91 %\n",
            "Accuracy of  ship : 89 %\n",
            "Accuracy of truck : 97 %\n",
            "\n",
            "Test set: Average loss: 0.0071, Accuracy: 8528/10000 (85.28%)\n",
            "\n",
            "EPOCH: 39\n"
          ],
          "name": "stdout"
        },
        {
          "output_type": "stream",
          "text": [
            "Loss=0.6083879470825195 Batch_id=781 Accuracy=89.95: 100%|██████████| 782/782 [05:07<00:00,  2.55it/s]\n",
            "  0%|          | 0/782 [00:00<?, ?it/s]"
          ],
          "name": "stderr"
        },
        {
          "output_type": "stream",
          "text": [
            "Test set: Average loss: 0.0073, Accuracy: 8439/10000 (84.39%)\n",
            "\n",
            "EPOCH: 40\n"
          ],
          "name": "stdout"
        },
        {
          "output_type": "stream",
          "text": [
            "Loss=0.3772872984409332 Batch_id=781 Accuracy=90.23: 100%|██████████| 782/782 [05:11<00:00,  2.51it/s]\n",
            "  0%|          | 0/782 [00:00<?, ?it/s]"
          ],
          "name": "stderr"
        },
        {
          "output_type": "stream",
          "text": [
            "Test set: Average loss: 0.0071, Accuracy: 8499/10000 (84.99%)\n",
            "\n",
            "EPOCH: 41\n"
          ],
          "name": "stdout"
        },
        {
          "output_type": "stream",
          "text": [
            "Loss=0.06959448754787445 Batch_id=781 Accuracy=90.34: 100%|██████████| 782/782 [05:08<00:00,  2.54it/s]\n",
            "  0%|          | 0/782 [00:00<?, ?it/s]"
          ],
          "name": "stderr"
        },
        {
          "output_type": "stream",
          "text": [
            "Test set: Average loss: 0.0073, Accuracy: 8477/10000 (84.77%)\n",
            "\n",
            "EPOCH: 42\n"
          ],
          "name": "stdout"
        },
        {
          "output_type": "stream",
          "text": [
            "Loss=1.0480352640151978 Batch_id=781 Accuracy=90.55: 100%|██████████| 782/782 [05:06<00:00,  2.55it/s]\n",
            "  0%|          | 0/782 [00:00<?, ?it/s]"
          ],
          "name": "stderr"
        },
        {
          "output_type": "stream",
          "text": [
            "\n",
            "Accuracy of plane : 87 %\n",
            "Accuracy of   car : 92 %\n",
            "Accuracy of  bird : 70 %\n",
            "Accuracy of   cat : 65 %\n",
            "Accuracy of  deer : 90 %\n",
            "Accuracy of   dog : 74 %\n",
            "Accuracy of  frog : 88 %\n",
            "Accuracy of horse : 90 %\n",
            "Accuracy of  ship : 90 %\n",
            "Accuracy of truck : 86 %\n",
            "\n",
            "Test set: Average loss: 0.0073, Accuracy: 8520/10000 (85.20%)\n",
            "\n",
            "EPOCH: 43\n"
          ],
          "name": "stdout"
        },
        {
          "output_type": "stream",
          "text": [
            "Loss=0.09448286890983582 Batch_id=781 Accuracy=90.69: 100%|██████████| 782/782 [05:09<00:00,  2.53it/s]\n",
            "  0%|          | 0/782 [00:00<?, ?it/s]"
          ],
          "name": "stderr"
        },
        {
          "output_type": "stream",
          "text": [
            "Test set: Average loss: 0.0073, Accuracy: 8486/10000 (84.86%)\n",
            "\n",
            "EPOCH: 44\n"
          ],
          "name": "stdout"
        },
        {
          "output_type": "stream",
          "text": [
            "Loss=0.39831411838531494 Batch_id=781 Accuracy=90.73: 100%|██████████| 782/782 [05:09<00:00,  2.53it/s]\n",
            "  0%|          | 0/782 [00:00<?, ?it/s]"
          ],
          "name": "stderr"
        },
        {
          "output_type": "stream",
          "text": [
            "\n",
            "Accuracy of plane : 93 %\n",
            "Accuracy of   car : 94 %\n",
            "Accuracy of  bird : 78 %\n",
            "Accuracy of   cat : 76 %\n",
            "Accuracy of  deer : 85 %\n",
            "Accuracy of   dog : 86 %\n",
            "Accuracy of  frog : 86 %\n",
            "Accuracy of horse : 89 %\n",
            "Accuracy of  ship : 90 %\n",
            "Accuracy of truck : 91 %\n",
            "\n",
            "Test set: Average loss: 0.0069, Accuracy: 8556/10000 (85.56%)\n",
            "\n",
            "EPOCH: 45\n"
          ],
          "name": "stdout"
        },
        {
          "output_type": "stream",
          "text": [
            "Loss=0.6522151827812195 Batch_id=781 Accuracy=90.79: 100%|██████████| 782/782 [05:11<00:00,  2.51it/s]\n",
            "  0%|          | 0/782 [00:00<?, ?it/s]"
          ],
          "name": "stderr"
        },
        {
          "output_type": "stream",
          "text": [
            "\n",
            "Accuracy of plane : 87 %\n",
            "Accuracy of   car : 91 %\n",
            "Accuracy of  bird : 72 %\n",
            "Accuracy of   cat : 81 %\n",
            "Accuracy of  deer : 83 %\n",
            "Accuracy of   dog : 84 %\n",
            "Accuracy of  frog : 92 %\n",
            "Accuracy of horse : 83 %\n",
            "Accuracy of  ship : 89 %\n",
            "Accuracy of truck : 94 %\n",
            "\n",
            "Test set: Average loss: 0.0071, Accuracy: 8521/10000 (85.21%)\n",
            "\n",
            "EPOCH: 46\n"
          ],
          "name": "stdout"
        },
        {
          "output_type": "stream",
          "text": [
            "Loss=0.37432369589805603 Batch_id=781 Accuracy=90.93: 100%|██████████| 782/782 [05:07<00:00,  2.54it/s]\n",
            "  0%|          | 0/782 [00:00<?, ?it/s]"
          ],
          "name": "stderr"
        },
        {
          "output_type": "stream",
          "text": [
            "\n",
            "Accuracy of plane : 90 %\n",
            "Accuracy of   car : 98 %\n",
            "Accuracy of  bird : 82 %\n",
            "Accuracy of   cat : 73 %\n",
            "Accuracy of  deer : 88 %\n",
            "Accuracy of   dog : 62 %\n",
            "Accuracy of  frog : 95 %\n",
            "Accuracy of horse : 88 %\n",
            "Accuracy of  ship : 98 %\n",
            "Accuracy of truck : 87 %\n",
            "\n",
            "Test set: Average loss: 0.0070, Accuracy: 8562/10000 (85.62%)\n",
            "\n",
            "EPOCH: 47\n"
          ],
          "name": "stdout"
        },
        {
          "output_type": "stream",
          "text": [
            "Loss=0.46255600452423096 Batch_id=781 Accuracy=91.18: 100%|██████████| 782/782 [05:10<00:00,  2.52it/s]\n",
            "  0%|          | 0/782 [00:00<?, ?it/s]"
          ],
          "name": "stderr"
        },
        {
          "output_type": "stream",
          "text": [
            "Test set: Average loss: 0.0072, Accuracy: 8460/10000 (84.60%)\n",
            "\n",
            "EPOCH: 48\n"
          ],
          "name": "stdout"
        },
        {
          "output_type": "stream",
          "text": [
            "Loss=0.08712898194789886 Batch_id=781 Accuracy=91.28: 100%|██████████| 782/782 [05:07<00:00,  2.55it/s]\n",
            "  0%|          | 0/782 [00:00<?, ?it/s]"
          ],
          "name": "stderr"
        },
        {
          "output_type": "stream",
          "text": [
            "\n",
            "Accuracy of plane : 90 %\n",
            "Accuracy of   car : 90 %\n",
            "Accuracy of  bird : 83 %\n",
            "Accuracy of   cat : 74 %\n",
            "Accuracy of  deer : 83 %\n",
            "Accuracy of   dog : 69 %\n",
            "Accuracy of  frog : 85 %\n",
            "Accuracy of horse : 86 %\n",
            "Accuracy of  ship : 82 %\n",
            "Accuracy of truck : 90 %\n",
            "\n",
            "Test set: Average loss: 0.0071, Accuracy: 8529/10000 (85.29%)\n",
            "\n",
            "EPOCH: 49\n"
          ],
          "name": "stdout"
        },
        {
          "output_type": "stream",
          "text": [
            "Loss=1.0151230096817017 Batch_id=781 Accuracy=91.29: 100%|██████████| 782/782 [05:07<00:00,  2.54it/s]\n",
            "  0%|          | 0/782 [00:00<?, ?it/s]"
          ],
          "name": "stderr"
        },
        {
          "output_type": "stream",
          "text": [
            "Test set: Average loss: 0.0073, Accuracy: 8485/10000 (84.85%)\n",
            "\n",
            "EPOCH: 50\n"
          ],
          "name": "stdout"
        },
        {
          "output_type": "stream",
          "text": [
            "Loss=0.35481196641921997 Batch_id=781 Accuracy=91.16: 100%|██████████| 782/782 [05:12<00:00,  2.50it/s]\n",
            "/content/EVA5/week-7/Trails-2/test.py:15: UserWarning: This overload of nonzero is deprecated:\n",
            "\tnonzero()\n",
            "Consider using one of the following signatures instead:\n",
            "\tnonzero(*, bool as_tuple) (Triggered internally at  /pytorch/torch/csrc/utils/python_arg_parser.cpp:766.)\n",
            "  misclassified_inds = (is_correct==0).nonzero()[:,0]\n"
          ],
          "name": "stderr"
        },
        {
          "output_type": "stream",
          "text": [
            "\n",
            "Accuracy of plane : 87 %\n",
            "Accuracy of   car : 94 %\n",
            "Accuracy of  bird : 89 %\n",
            "Accuracy of   cat : 75 %\n",
            "Accuracy of  deer : 81 %\n",
            "Accuracy of   dog : 73 %\n",
            "Accuracy of  frog : 84 %\n",
            "Accuracy of horse : 95 %\n",
            "Accuracy of  ship : 88 %\n",
            "Accuracy of truck : 89 %\n",
            "\n",
            "Test set: Average loss: 0.0071, Accuracy: 8545/10000 (85.45%)\n",
            "\n"
          ],
          "name": "stdout"
        }
      ]
    },
    {
      "cell_type": "code",
      "metadata": {
        "id": "xWutos5Xbyur",
        "colab_type": "code",
        "colab": {}
      },
      "source": [
        ""
      ],
      "execution_count": null,
      "outputs": []
    }
  ]
}